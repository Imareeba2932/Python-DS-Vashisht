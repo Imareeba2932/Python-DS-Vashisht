{
 "cells": [
  {
   "cell_type": "code",
   "execution_count": 18,
   "metadata": {},
   "outputs": [],
   "source": [
    "class Dog:\n",
    "    pass"
   ]
  },
  {
   "cell_type": "code",
   "execution_count": 19,
   "metadata": {},
   "outputs": [],
   "source": [
    "class Dog:\n",
    "    def __init__(self, name, age):\n",
    "        self.name = name\n",
    "        self.age = age\n",
    "    def bark(self):\n",
    "        return \"bark!\""
   ]
  },
  {
   "cell_type": "code",
   "execution_count": 20,
   "metadata": {},
   "outputs": [
    {
     "name": "stdout",
     "output_type": "stream",
     "text": [
      "Rex\n",
      "3\n",
      "bark!\n"
     ]
    }
   ],
   "source": [
    "my_dog = Dog(\"Rex\", 3)\n",
    "print(my_dog.name)\n",
    "print(my_dog.age)\n",
    "print(my_dog.bark())"
   ]
  },
  {
   "cell_type": "code",
   "execution_count": 21,
   "metadata": {},
   "outputs": [],
   "source": [
    "class Pen:\n",
    "    shape = None\n",
    "    color = None\n",
    "    material = None\n",
    "    type = None\n",
    "    \n",
    "    def show(self):\n",
    "        print(\"This is a pen\")"
   ]
  },
  {
   "cell_type": "code",
   "execution_count": 22,
   "metadata": {},
   "outputs": [
    {
     "name": "stdout",
     "output_type": "stream",
     "text": [
      "<__main__.Pen object at 0x00000246BE154D00>\n",
      "This is a pen\n",
      "This is a pen\n",
      "None\n",
      "cylinder blue plastic ballpoint\n",
      "hexagon black metal fountain\n"
     ]
    }
   ],
   "source": [
    "p1 = Pen()\n",
    "p2 = Pen()\n",
    "print(p1)\n",
    "p1.show()\n",
    "p2.show()\n",
    "print(p1.shape)\n",
    "p1.shape = \"cylinder\"\n",
    "p1.color = \"blue\"\n",
    "p1.material = \"plastic\"\n",
    "p1.type = \"ballpoint\"\n",
    "print(p1.shape, p1.color, p1.material, p1.type)\n",
    "p2.shape = \"hexagon\"\n",
    "p2.color = \"black\"\n",
    "p2.material = \"metal\"\n",
    "p2.type = \"fountain\"\n",
    "print(p2.shape, p2.color, p2.material, p2.type)\n"
   ]
  },
  {
   "cell_type": "markdown",
   "metadata": {},
   "source": [
    "Data Class\n",
    "- Data Class is a class that only contains data"
   ]
  },
  {
   "cell_type": "code",
   "execution_count": 23,
   "metadata": {},
   "outputs": [],
   "source": [
    "class Employee:\n",
    "    name: str\n",
    "    designation: str\n",
    "    salary: float"
   ]
  },
  {
   "cell_type": "code",
   "execution_count": 26,
   "metadata": {},
   "outputs": [
    {
     "name": "stdout",
     "output_type": "stream",
     "text": [
      "John\n"
     ]
    }
   ],
   "source": [
    "e1 = Employee()\n",
    "e1.name = \"John\"\n",
    "print(e1.name)"
   ]
  },
  {
   "cell_type": "code",
   "execution_count": null,
   "metadata": {},
   "outputs": [],
   "source": []
  }
 ],
 "metadata": {
  "kernelspec": {
   "display_name": "base",
   "language": "python",
   "name": "python3"
  },
  "language_info": {
   "codemirror_mode": {
    "name": "ipython",
    "version": 3
   },
   "file_extension": ".py",
   "mimetype": "text/x-python",
   "name": "python",
   "nbconvert_exporter": "python",
   "pygments_lexer": "ipython3",
   "version": "3.9.12"
  }
 },
 "nbformat": 4,
 "nbformat_minor": 2
}
