{
 "cells": [
  {
   "cell_type": "code",
   "execution_count": 2,
   "metadata": {},
   "outputs": [],
   "source": [
    "from dputils.scrape import Scraper,Tag\n",
    "from pprint import pp"
   ]
  },
  {
   "cell_type": "markdown",
   "metadata": {},
   "source": [
    "- Tag class helps to decide what to collect from the page\n",
    "- Scraper executes the scraping process"
   ]
  },
  {
   "cell_type": "code",
   "execution_count": 3,
   "metadata": {},
   "outputs": [],
   "source": [
    "url = \"https://www.flipkart.com/search?q=mobiles&otracker=search&otracker1=search&marketplace=FLIPKART&as-show=on&as=off\""
   ]
  },
  {
   "cell_type": "code",
   "execution_count": 10,
   "metadata": {},
   "outputs": [
    {
     "data": {
      "text/plain": [
       "<bound method Scraper.get_repeating_date_from_page of <dputils.scrape.Scraper object at 0x000001C43D6E6AA0>>"
      ]
     },
     "execution_count": 10,
     "metadata": {},
     "output_type": "execute_result"
    }
   ],
   "source": [
    "scraper = Scraper(url)\n",
    "scraper.get_repeating_date_from_page"
   ]
  },
  {
   "cell_type": "code",
   "execution_count": 8,
   "metadata": {},
   "outputs": [],
   "source": [
    "result = scraper.get_repeating_date_from_page(\n",
    "    target = Tag('div', cls='DOjaWF gdgoEp'),\n",
    "    items = Tag('div', cls='_75nlfW'),\n",
    "    title = Tag('div', cls='KzDlHZ'),\n",
    "    price = Tag('div', cls='Nx9bqj _4b5DiR')\n",
    ")"
   ]
  },
  {
   "cell_type": "code",
   "execution_count": 9,
   "metadata": {},
   "outputs": [
    {
     "data": {
      "text/plain": [
       "[{'title': 'realme P1 5G (Phoenix Red, 128 GB)', 'price': '₹15,999'},\n",
       " {'title': 'OPPO Reno 12 5G (Matte Brown, 256 GB)', 'price': '₹32,999'},\n",
       " {'title': 'Motorola Edge 50 Fusion (Hot Pink, 128 GB)', 'price': '₹22,999'},\n",
       " {'title': 'Motorola G34 5G (Ice Blue, 128 GB)', 'price': '₹11,999'},\n",
       " {'title': 'Apple iPhone 15 (Black, 128 GB)', 'price': '₹65,499'},\n",
       " {'title': 'POCO M6 Pro 5G (Power Black, 128 GB)', 'price': '₹9,999'},\n",
       " {'title': 'Apple iPhone 15 (Blue, 128 GB)', 'price': '₹65,499'},\n",
       " {'title': 'Motorola G34 5G (Charcoal Black, 128 GB)', 'price': '₹11,999'},\n",
       " {'title': 'POCO C65 (Pastel Blue, 128 GB)', 'price': '₹6,799'},\n",
       " {'title': 'Nokia 105 Single SIM, Keypad Mobile Phone with Wireless FM Radio',\n",
       "  'price': '₹1,295'},\n",
       " {'title': 'Nokia 105 Single SIM, Keypad Mobile Phone with Wireless FM Radio',\n",
       "  'price': '₹1,375'},\n",
       " {'title': 'vivo T3x 5G (Crimson Bliss, 128 GB)', 'price': '₹13,499'},\n",
       " {'title': 'vivo T3x 5G (Celestial Green, 128 GB)', 'price': '₹13,499'},\n",
       " {'title': 'vivo T3x 5G (Celestial Green, 128 GB)', 'price': '₹16,499'},\n",
       " {'title': 'vivo T3x 5G (Crimson Bliss, 128 GB)', 'price': '₹14,999'},\n",
       " {'title': 'vivo T3x 5G (Celestial Green, 128 GB)', 'price': '₹14,999'},\n",
       " {'title': 'vivo T3x 5G (Crimson Bliss, 128 GB)', 'price': '₹16,499'},\n",
       " {'title': 'Motorola g64 5G (Pearl Blue, 128 GB)', 'price': '₹13,999'},\n",
       " {'title': 'POCO C65 (Matte Black, 128 GB)', 'price': '₹6,799'},\n",
       " {'title': 'Motorola g64 5G (Ice Lilac, 128 GB)', 'price': '₹13,999'},\n",
       " {'title': 'Motorola Edge 50 Fusion (Marshmallow Blue, 256 GB)',\n",
       "  'price': '₹24,999'},\n",
       " {'title': 'Motorola g04s (Satin Blue, 64 GB)', 'price': '₹6,999'},\n",
       " {'title': 'Motorola Edge 50 Pro 5G with 68W Charger (Luxe Lavender, 256 GB)',\n",
       "  'price': '₹29,999'},\n",
       " {'title': 'REDMI 13C (Stardust Black, 128 GB)', 'price': '₹7,699'}]"
      ]
     },
     "execution_count": 9,
     "metadata": {},
     "output_type": "execute_result"
    }
   ],
   "source": [
    "result"
   ]
  },
  {
   "cell_type": "code",
   "execution_count": 11,
   "metadata": {},
   "outputs": [],
   "source": [
    "import pandas as pd"
   ]
  },
  {
   "cell_type": "code",
   "execution_count": 12,
   "metadata": {},
   "outputs": [
    {
     "data": {
      "text/html": [
       "<div>\n",
       "<style scoped>\n",
       "    .dataframe tbody tr th:only-of-type {\n",
       "        vertical-align: middle;\n",
       "    }\n",
       "\n",
       "    .dataframe tbody tr th {\n",
       "        vertical-align: top;\n",
       "    }\n",
       "\n",
       "    .dataframe thead th {\n",
       "        text-align: right;\n",
       "    }\n",
       "</style>\n",
       "<table border=\"1\" class=\"dataframe\">\n",
       "  <thead>\n",
       "    <tr style=\"text-align: right;\">\n",
       "      <th></th>\n",
       "      <th>title</th>\n",
       "      <th>price</th>\n",
       "    </tr>\n",
       "  </thead>\n",
       "  <tbody>\n",
       "    <tr>\n",
       "      <th>0</th>\n",
       "      <td>realme P1 5G (Phoenix Red, 128 GB)</td>\n",
       "      <td>₹15,999</td>\n",
       "    </tr>\n",
       "    <tr>\n",
       "      <th>1</th>\n",
       "      <td>OPPO Reno 12 5G (Matte Brown, 256 GB)</td>\n",
       "      <td>₹32,999</td>\n",
       "    </tr>\n",
       "    <tr>\n",
       "      <th>2</th>\n",
       "      <td>Motorola Edge 50 Fusion (Hot Pink, 128 GB)</td>\n",
       "      <td>₹22,999</td>\n",
       "    </tr>\n",
       "    <tr>\n",
       "      <th>3</th>\n",
       "      <td>Motorola G34 5G (Ice Blue, 128 GB)</td>\n",
       "      <td>₹11,999</td>\n",
       "    </tr>\n",
       "    <tr>\n",
       "      <th>4</th>\n",
       "      <td>Apple iPhone 15 (Black, 128 GB)</td>\n",
       "      <td>₹65,499</td>\n",
       "    </tr>\n",
       "    <tr>\n",
       "      <th>5</th>\n",
       "      <td>POCO M6 Pro 5G (Power Black, 128 GB)</td>\n",
       "      <td>₹9,999</td>\n",
       "    </tr>\n",
       "    <tr>\n",
       "      <th>6</th>\n",
       "      <td>Apple iPhone 15 (Blue, 128 GB)</td>\n",
       "      <td>₹65,499</td>\n",
       "    </tr>\n",
       "    <tr>\n",
       "      <th>7</th>\n",
       "      <td>Motorola G34 5G (Charcoal Black, 128 GB)</td>\n",
       "      <td>₹11,999</td>\n",
       "    </tr>\n",
       "    <tr>\n",
       "      <th>8</th>\n",
       "      <td>POCO C65 (Pastel Blue, 128 GB)</td>\n",
       "      <td>₹6,799</td>\n",
       "    </tr>\n",
       "    <tr>\n",
       "      <th>9</th>\n",
       "      <td>Nokia 105 Single SIM, Keypad Mobile Phone with...</td>\n",
       "      <td>₹1,295</td>\n",
       "    </tr>\n",
       "    <tr>\n",
       "      <th>10</th>\n",
       "      <td>Nokia 105 Single SIM, Keypad Mobile Phone with...</td>\n",
       "      <td>₹1,375</td>\n",
       "    </tr>\n",
       "    <tr>\n",
       "      <th>11</th>\n",
       "      <td>vivo T3x 5G (Crimson Bliss, 128 GB)</td>\n",
       "      <td>₹13,499</td>\n",
       "    </tr>\n",
       "    <tr>\n",
       "      <th>12</th>\n",
       "      <td>vivo T3x 5G (Celestial Green, 128 GB)</td>\n",
       "      <td>₹13,499</td>\n",
       "    </tr>\n",
       "    <tr>\n",
       "      <th>13</th>\n",
       "      <td>vivo T3x 5G (Celestial Green, 128 GB)</td>\n",
       "      <td>₹16,499</td>\n",
       "    </tr>\n",
       "    <tr>\n",
       "      <th>14</th>\n",
       "      <td>vivo T3x 5G (Crimson Bliss, 128 GB)</td>\n",
       "      <td>₹14,999</td>\n",
       "    </tr>\n",
       "    <tr>\n",
       "      <th>15</th>\n",
       "      <td>vivo T3x 5G (Celestial Green, 128 GB)</td>\n",
       "      <td>₹14,999</td>\n",
       "    </tr>\n",
       "    <tr>\n",
       "      <th>16</th>\n",
       "      <td>vivo T3x 5G (Crimson Bliss, 128 GB)</td>\n",
       "      <td>₹16,499</td>\n",
       "    </tr>\n",
       "    <tr>\n",
       "      <th>17</th>\n",
       "      <td>Motorola g64 5G (Pearl Blue, 128 GB)</td>\n",
       "      <td>₹13,999</td>\n",
       "    </tr>\n",
       "    <tr>\n",
       "      <th>18</th>\n",
       "      <td>POCO C65 (Matte Black, 128 GB)</td>\n",
       "      <td>₹6,799</td>\n",
       "    </tr>\n",
       "    <tr>\n",
       "      <th>19</th>\n",
       "      <td>Motorola g64 5G (Ice Lilac, 128 GB)</td>\n",
       "      <td>₹13,999</td>\n",
       "    </tr>\n",
       "    <tr>\n",
       "      <th>20</th>\n",
       "      <td>Motorola Edge 50 Fusion (Marshmallow Blue, 256...</td>\n",
       "      <td>₹24,999</td>\n",
       "    </tr>\n",
       "    <tr>\n",
       "      <th>21</th>\n",
       "      <td>Motorola g04s (Satin Blue, 64 GB)</td>\n",
       "      <td>₹6,999</td>\n",
       "    </tr>\n",
       "    <tr>\n",
       "      <th>22</th>\n",
       "      <td>Motorola Edge 50 Pro 5G with 68W Charger (Luxe...</td>\n",
       "      <td>₹29,999</td>\n",
       "    </tr>\n",
       "    <tr>\n",
       "      <th>23</th>\n",
       "      <td>REDMI 13C (Stardust Black, 128 GB)</td>\n",
       "      <td>₹7,699</td>\n",
       "    </tr>\n",
       "  </tbody>\n",
       "</table>\n",
       "</div>"
      ],
      "text/plain": [
       "                                                title    price\n",
       "0                  realme P1 5G (Phoenix Red, 128 GB)  ₹15,999\n",
       "1               OPPO Reno 12 5G (Matte Brown, 256 GB)  ₹32,999\n",
       "2          Motorola Edge 50 Fusion (Hot Pink, 128 GB)  ₹22,999\n",
       "3                  Motorola G34 5G (Ice Blue, 128 GB)  ₹11,999\n",
       "4                     Apple iPhone 15 (Black, 128 GB)  ₹65,499\n",
       "5                POCO M6 Pro 5G (Power Black, 128 GB)   ₹9,999\n",
       "6                      Apple iPhone 15 (Blue, 128 GB)  ₹65,499\n",
       "7            Motorola G34 5G (Charcoal Black, 128 GB)  ₹11,999\n",
       "8                      POCO C65 (Pastel Blue, 128 GB)   ₹6,799\n",
       "9   Nokia 105 Single SIM, Keypad Mobile Phone with...   ₹1,295\n",
       "10  Nokia 105 Single SIM, Keypad Mobile Phone with...   ₹1,375\n",
       "11                vivo T3x 5G (Crimson Bliss, 128 GB)  ₹13,499\n",
       "12              vivo T3x 5G (Celestial Green, 128 GB)  ₹13,499\n",
       "13              vivo T3x 5G (Celestial Green, 128 GB)  ₹16,499\n",
       "14                vivo T3x 5G (Crimson Bliss, 128 GB)  ₹14,999\n",
       "15              vivo T3x 5G (Celestial Green, 128 GB)  ₹14,999\n",
       "16                vivo T3x 5G (Crimson Bliss, 128 GB)  ₹16,499\n",
       "17               Motorola g64 5G (Pearl Blue, 128 GB)  ₹13,999\n",
       "18                     POCO C65 (Matte Black, 128 GB)   ₹6,799\n",
       "19                Motorola g64 5G (Ice Lilac, 128 GB)  ₹13,999\n",
       "20  Motorola Edge 50 Fusion (Marshmallow Blue, 256...  ₹24,999\n",
       "21                  Motorola g04s (Satin Blue, 64 GB)   ₹6,999\n",
       "22  Motorola Edge 50 Pro 5G with 68W Charger (Luxe...  ₹29,999\n",
       "23                 REDMI 13C (Stardust Black, 128 GB)   ₹7,699"
      ]
     },
     "execution_count": 12,
     "metadata": {},
     "output_type": "execute_result"
    }
   ],
   "source": [
    "df=pd.DataFrame(result)\n",
    "df"
   ]
  },
  {
   "cell_type": "code",
   "execution_count": null,
   "metadata": {},
   "outputs": [],
   "source": []
  }
 ],
 "metadata": {
  "kernelspec": {
   "display_name": "py310",
   "language": "python",
   "name": "python3"
  },
  "language_info": {
   "codemirror_mode": {
    "name": "ipython",
    "version": 3
   },
   "file_extension": ".py",
   "mimetype": "text/x-python",
   "name": "python",
   "nbconvert_exporter": "python",
   "pygments_lexer": "ipython3",
   "version": "3.10.10"
  }
 },
 "nbformat": 4,
 "nbformat_minor": 2
}
