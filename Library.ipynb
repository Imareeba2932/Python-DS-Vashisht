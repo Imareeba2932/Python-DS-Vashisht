{
 "cells": [
  {
   "cell_type": "code",
   "execution_count": 1,
   "metadata": {},
   "outputs": [],
   "source": [
    "import math"
   ]
  },
  {
   "cell_type": "code",
   "execution_count": 9,
   "metadata": {},
   "outputs": [
    {
     "name": "stdout",
     "output_type": "stream",
     "text": [
      "3.0\n",
      "120\n",
      "3.141592653589793\n",
      "2\n",
      "252\n",
      "2.718281828459045\n",
      "0.1411200080598672\n"
     ]
    }
   ],
   "source": [
    "print(math.sqrt(9))\n",
    "print(math.factorial(5))\n",
    "print(math.pi)\n",
    "print(math.gcd(12,18,14))\n",
    "print(math.lcm(12,18,14))\n",
    "print(math.e)\n",
    "print(math.sin(3))"
   ]
  },
  {
   "cell_type": "code",
   "execution_count": 10,
   "metadata": {},
   "outputs": [],
   "source": [
    "from random import random, randint, choice, shuffle"
   ]
  },
  {
   "cell_type": "code",
   "execution_count": 23,
   "metadata": {},
   "outputs": [
    {
     "name": "stdout",
     "output_type": "stream",
     "text": [
      "get a random number between 0 and 1 :  0.708865185923429\n",
      "get a random number between 1 and 100 :  38\n",
      "Select a random element from a list :  10\n",
      "Shuffled list :  ['Joe', 'Jane', 'Jack', 'Jill', 'John']\n"
     ]
    }
   ],
   "source": [
    "print('get a random number between 0 and 1 : ', random())\n",
    "print('get a random number between 1 and 100 : ', randint(1,100) )\n",
    "print('Select a random element from a list : ', choice([1,2,3,4,5,6,7,8,9,10]))\n",
    "names=['John','Jane','Jack','Jill','Joe']\n",
    "shuffle(names)\n",
    "print('Shuffled list : ', names)\n"
   ]
  },
  {
   "cell_type": "code",
   "execution_count": 24,
   "metadata": {},
   "outputs": [],
   "source": [
    "from datetime import datetime as dt"
   ]
  },
  {
   "cell_type": "code",
   "execution_count": 25,
   "metadata": {},
   "outputs": [
    {
     "name": "stdout",
     "output_type": "stream",
     "text": [
      "Current date and time :  2024-07-04 13:48:32.448789\n"
     ]
    }
   ],
   "source": [
    "print('Current date and time : ', dt.now())"
   ]
  },
  {
   "cell_type": "code",
   "execution_count": 27,
   "metadata": {},
   "outputs": [
    {
     "name": "stdout",
     "output_type": "stream",
     "text": [
      "Current date :  2024-07-04\n",
      "Current time :  13:50:30.349201\n"
     ]
    }
   ],
   "source": [
    "print('Current date : ',dt.now().date())\n",
    "print('Current time : ',dt.now().time())"
   ]
  },
  {
   "cell_type": "code",
   "execution_count": 28,
   "metadata": {},
   "outputs": [
    {
     "name": "stdout",
     "output_type": "stream",
     "text": [
      "Current year :  2024\n",
      "Current month :  7\n",
      "Current day :  4\n",
      "Current hour :  13\n",
      "Current minute :  51\n",
      "Current second :  49\n",
      "Current microsecond :  414877\n",
      "Current Weekday :  3\n"
     ]
    }
   ],
   "source": [
    "print('Current year : ',dt.now().year)\n",
    "print('Current month : ',dt.now().month)    \n",
    "print('Current day : ',dt.now().day)\n",
    "print('Current hour : ',dt.now().hour)\n",
    "print('Current minute : ',dt.now().minute)\n",
    "print('Current second : ',dt.now().second)\n",
    "print('Current microsecond : ',dt.now().microsecond)\n",
    "print('Current Weekday : ',dt.now().weekday())"
   ]
  },
  {
   "cell_type": "code",
   "execution_count": 31,
   "metadata": {},
   "outputs": [
    {
     "name": "stdout",
     "output_type": "stream",
     "text": [
      "formatted date :  04/07/24\n"
     ]
    }
   ],
   "source": [
    "date = dt.strftime(dt.now(), '%d/%m/%y')\n",
    "print('formatted date : ', date)"
   ]
  },
  {
   "cell_type": "code",
   "execution_count": 32,
   "metadata": {},
   "outputs": [
    {
     "name": "stdout",
     "output_type": "stream",
     "text": [
      "formatted time :  13:58:53\n"
     ]
    }
   ],
   "source": [
    "time = dt.strftime(dt.now(), '%H:%M:%S')\n",
    "print('formatted time : ', time)"
   ]
  },
  {
   "cell_type": "code",
   "execution_count": 34,
   "metadata": {},
   "outputs": [],
   "source": [
    "import os"
   ]
  },
  {
   "cell_type": "code",
   "execution_count": null,
   "metadata": {},
   "outputs": [],
   "source": []
  }
 ],
 "metadata": {
  "kernelspec": {
   "display_name": "base",
   "language": "python",
   "name": "python3"
  },
  "language_info": {
   "codemirror_mode": {
    "name": "ipython",
    "version": 3
   },
   "file_extension": ".py",
   "mimetype": "text/x-python",
   "name": "python",
   "nbconvert_exporter": "python",
   "pygments_lexer": "ipython3",
   "version": "3.9.12"
  }
 },
 "nbformat": 4,
 "nbformat_minor": 2
}
