{
 "cells": [
  {
   "cell_type": "markdown",
   "metadata": {},
   "source": [
    "Dictionary\n",
    "- how to declare it\n",
    "- How to  acess key and values of a dictionary\n",
    "- Loping in dictionary\n"
   ]
  },
  {
   "cell_type": "code",
   "execution_count": 1,
   "metadata": {},
   "outputs": [
    {
     "name": "stdout",
     "output_type": "stream",
     "text": [
      "{'name': 'John', 'class': '12th', 'roll_no': 12, 'age': 17}\n"
     ]
    }
   ],
   "source": [
    "student = {\n",
    "    \"name\": \"John\",\n",
    "    \"class\" : \"12th\",\n",
    "    \"roll_no\" : 12,\n",
    "    \"age\" : 17,\n",
    "}\n",
    "print(student)"
   ]
  },
  {
   "cell_type": "code",
   "execution_count": 2,
   "metadata": {},
   "outputs": [
    {
     "name": "stdout",
     "output_type": "stream",
     "text": [
      "John\n",
      "12\n"
     ]
    }
   ],
   "source": [
    "# 1st method\n",
    "print(student[\"name\"])\n",
    "print(student[\"roll_no\"])"
   ]
  },
  {
   "cell_type": "code",
   "execution_count": 3,
   "metadata": {},
   "outputs": [
    {
     "name": "stdout",
     "output_type": "stream",
     "text": [
      "John\n",
      "12\n"
     ]
    }
   ],
   "source": [
    "#2nd method\n",
    "print(student.get(\"name\"))\n",
    "print(student.get(\"roll_no\"))"
   ]
  },
  {
   "cell_type": "code",
   "execution_count": 4,
   "metadata": {},
   "outputs": [
    {
     "name": "stdout",
     "output_type": "stream",
     "text": [
      "{'name': 'John', 'class': '12th', 'roll_no': 12, 'age': 17, 'school': 'Lucknow Public School', 'Fathers Name': 'Rahul'}\n"
     ]
    }
   ],
   "source": [
    "# to add items in a dictionary\n",
    "student['school'] = \"Lucknow Public School\"\n",
    "student['Fathers Name'] = 'Rahul'\n",
    "print(student)"
   ]
  },
  {
   "cell_type": "code",
   "execution_count": 5,
   "metadata": {},
   "outputs": [
    {
     "name": "stdout",
     "output_type": "stream",
     "text": [
      "name\n",
      "class\n",
      "roll_no\n",
      "age\n",
      "school\n",
      "Fathers Name\n"
     ]
    }
   ],
   "source": [
    "for key in student:\n",
    "    print(key)"
   ]
  },
  {
   "cell_type": "code",
   "execution_count": 16,
   "metadata": {},
   "outputs": [
    {
     "name": "stdout",
     "output_type": "stream",
     "text": [
      "name : John\n",
      "class : 12th\n",
      "roll_no : 12\n",
      "age : 17\n",
      "school : Lucknow Public School\n",
      "Fathers Name : Rahul\n"
     ]
    }
   ],
   "source": [
    "for k,v in student.items():\n",
    "    print(f'{k} : {v}')"
   ]
  },
  {
   "cell_type": "code",
   "execution_count": 15,
   "metadata": {},
   "outputs": [
    {
     "name": "stdout",
     "output_type": "stream",
     "text": [
      "The sum of 10 and 20 is 30\n"
     ]
    }
   ],
   "source": [
    "a = 10 \n",
    "b = 20\n",
    "\n",
    "# print(\"The sum of\",a,\"and\",b,\"is\",a+b)\n",
    "print(f\"The sum of {a} and {b} is{a+b}\")"
   ]
  },
  {
   "cell_type": "code",
   "execution_count": 8,
   "metadata": {},
   "outputs": [
    {
     "name": "stdout",
     "output_type": "stream",
     "text": [
      "dict_keys(['name', 'class', 'roll_no', 'age', 'school', 'Fathers Name'])\n",
      "dict_values(['John', '12th', 12, 17, 'Lucknow Public School', 'Rahul'])\n",
      "dict_items([('name', 'John'), ('class', '12th'), ('roll_no', 12), ('age', 17), ('school', 'Lucknow Public School'), ('Fathers Name', 'Rahul')])\n"
     ]
    }
   ],
   "source": [
    "print(student.keys())\n",
    "print(student.values())\n",
    "print(student.items())"
   ]
  },
  {
   "cell_type": "code",
   "execution_count": 9,
   "metadata": {},
   "outputs": [
    {
     "name": "stdout",
     "output_type": "stream",
     "text": [
      "{'emp001': {'name': 'John', 'age': 27, 'dept': 'HR', 'salary': 30000}, 'emp002': {'name': 'Smith', 'age': 24, 'dept': 'IT', 'salary': 40000}, 'emp003': {'name': 'Peter', 'age': 29, 'dept': 'Marketing', 'salary': 35000}}\n"
     ]
    }
   ],
   "source": [
    "company = {\n",
    "    'emp001' : {\n",
    "        'name' : 'John',\n",
    "        'age' : 27,\n",
    "        'dept' : 'HR',\n",
    "        'salary' : 30000\n",
    "    },\n",
    "    'emp002' : {\n",
    "        'name' : 'Smith',\n",
    "        'age' : 24,\n",
    "        'dept' : 'IT',\n",
    "        'salary' : 40000\n",
    "    },\n",
    "    'emp003' : {\n",
    "        'name' : 'Peter',\n",
    "        'age' : 29,\n",
    "        'dept' : 'Marketing',\n",
    "        'salary' : 35000\n",
    "    }  \n",
    "}\n",
    "print(company)"
   ]
  },
  {
   "cell_type": "code",
   "execution_count": 17,
   "metadata": {},
   "outputs": [
    {
     "name": "stdout",
     "output_type": "stream",
     "text": [
      "27\n"
     ]
    }
   ],
   "source": [
    "print(company['emp001']['age'])"
   ]
  },
  {
   "cell_type": "code",
   "execution_count": 11,
   "metadata": {},
   "outputs": [
    {
     "name": "stdout",
     "output_type": "stream",
     "text": [
      "{'emp001': {'name': 'John', 'age': 27, 'dept': 'HR', 'salary': 30000}, 'emp002': {'name': 'Smith', 'age': 24, 'dept': 'IT', 'salary': 40000}, 'emp003': {'name': 'Peter', 'age': 29, 'dept': 'Marketing', 'salary': 35000}, 'emp004': {'name': 'Rahul', 'age': 30, 'dept': 'IT', 'salary': 50000}}\n"
     ]
    }
   ],
   "source": [
    "company['emp004'] = {\n",
    "    'name' : 'Rahul',\n",
    "    'age' : 30,\n",
    "    'dept' : 'IT',\n",
    "    'salary' : 50000\n",
    "}\n",
    "print(company)"
   ]
  },
  {
   "cell_type": "code",
   "execution_count": 18,
   "metadata": {},
   "outputs": [
    {
     "name": "stdout",
     "output_type": "stream",
     "text": [
      "{'apple': 'red', 'banana': 'yellow', 'cherry': 'red', 'orange': 'orange'}\n"
     ]
    }
   ],
   "source": [
    "fruits = {\n",
    "    'apple': 'red',\n",
    "    'banana': 'yellow',\n",
    "    'cherry': 'red',\n",
    "    'orange': 'orange',\n",
    "}\n",
    "print(fruits)"
   ]
  },
  {
   "cell_type": "code",
   "execution_count": 19,
   "metadata": {},
   "outputs": [
    {
     "name": "stdout",
     "output_type": "stream",
     "text": [
      "{'lucknow': [25, 30, 35], 'delhi': [30, 35, 40], 'chennai': [24, 23, 22]}\n"
     ]
    }
   ],
   "source": [
    "temp= {\n",
    "    'lucknow': [25, 30, 35],\n",
    "    'delhi': [30, 35, 40],\n",
    "    'chennai': [24, 23, 22],\n",
    "}\n",
    "print(temp)"
   ]
  },
  {
   "cell_type": "code",
   "execution_count": 20,
   "metadata": {},
   "outputs": [
    {
     "name": "stdout",
     "output_type": "stream",
     "text": [
      "{'name': 'John', 'age': 27, 'dept': 'HR', 'salary': 30000}\n"
     ]
    }
   ],
   "source": [
    "info = dict(name='John', age=27, dept='HR', salary=30000)\n",
    "print(info)"
   ]
  },
  {
   "cell_type": "code",
   "execution_count": 21,
   "metadata": {},
   "outputs": [],
   "source": [
    "info2 = dict(name=input('Enter the name'), age = int(input(\"Enyer the age\")),\n",
    "             dept=input(\"Enter the Department\"), salary=int(input(\"Enter the salary\")))"
   ]
  },
  {
   "cell_type": "code",
   "execution_count": 22,
   "metadata": {},
   "outputs": [
    {
     "name": "stdout",
     "output_type": "stream",
     "text": [
      "{'name': 'Rahul', 'age': 25, 'dept': 'Finance', 'salary': 45000}\n"
     ]
    }
   ],
   "source": [
    "print(info2)"
   ]
  },
  {
   "cell_type": "code",
   "execution_count": 23,
   "metadata": {},
   "outputs": [
    {
     "name": "stdout",
     "output_type": "stream",
     "text": [
      "{'Alex': {'English': 85, 'Maths': 90, 'Science': 78}, 'Rahul': {'English': 80, 'Maths': 85, 'Science': 90}}\n"
     ]
    }
   ],
   "source": [
    "#nested dictionary\n",
    "report = {\n",
    "    'Alex' : {\n",
    "        'English' : 85,\n",
    "        'Maths' : 90,\n",
    "        'Science' : 78\n",
    "     },\n",
    "     'Rahul' : {\n",
    "        'English' : 80,\n",
    "        'Maths' : 85,\n",
    "        'Science' : 90\n",
    "     }\n",
    "}\n",
    "print(report)"
   ]
  },
  {
   "cell_type": "code",
   "execution_count": 24,
   "metadata": {},
   "outputs": [],
   "source": [
    "from pprint import pp # pretty print"
   ]
  },
  {
   "cell_type": "code",
   "execution_count": 25,
   "metadata": {},
   "outputs": [
    {
     "name": "stdout",
     "output_type": "stream",
     "text": [
      "{'Alex': {'English': 85, 'Maths': 90, 'Science': 78},\n",
      " 'Rahul': {'English': 80, 'Maths': 85, 'Science': 90}}\n"
     ]
    }
   ],
   "source": [
    "pp(report)"
   ]
  },
  {
   "cell_type": "code",
   "execution_count": 26,
   "metadata": {},
   "outputs": [
    {
     "data": {
      "text/plain": [
       "90"
      ]
     },
     "execution_count": 26,
     "metadata": {},
     "output_type": "execute_result"
    }
   ],
   "source": [
    "report['Alex']['Maths']"
   ]
  },
  {
   "cell_type": "code",
   "execution_count": 28,
   "metadata": {},
   "outputs": [
    {
     "name": "stdout",
     "output_type": "stream",
     "text": [
      "30\n",
      "35\n"
     ]
    }
   ],
   "source": [
    "print(temp['delhi'][0])\n",
    "print(temp['lucknow'][-1])"
   ]
  },
  {
   "cell_type": "code",
   "execution_count": 29,
   "metadata": {},
   "outputs": [
    {
     "name": "stdout",
     "output_type": "stream",
     "text": [
      "Average temperature in Delhi :  35.0\n"
     ]
    }
   ],
   "source": [
    "print('Average temperature in Delhi : ', sum(temp['delhi'])/len(temp['delhi']))"
   ]
  },
  {
   "cell_type": "markdown",
   "metadata": {},
   "source": [
    "Alex\n",
    "-> English 85\n",
    "-> Maths 90\n",
    "-> Science 78\n",
    "-> Total marks  253\n",
    "Rahul\n",
    "-> English 80\n",
    "-> Maths 85\n",
    "-> Science 90\n",
    "-> Total marks  255"
   ]
  },
  {
   "cell_type": "code",
   "execution_count": 34,
   "metadata": {},
   "outputs": [
    {
     "name": "stdout",
     "output_type": "stream",
     "text": [
      "Alex\n",
      "-> English 85\n",
      "-> Maths 90\n",
      "-> Science 78\n",
      "-> Total marks  253\n",
      "Rahul\n",
      "-> English 80\n",
      "-> Maths 85\n",
      "-> Science 90\n",
      "-> Total marks  255\n"
     ]
    }
   ],
   "source": [
    "for student, marks in report.items():\n",
    "    print(student)\n",
    "    for subject, mark in marks.items():\n",
    "        print(\"->\", subject, mark)\n",
    "    print(\"-> Total marks \", sum(marks.values()))"
   ]
  },
  {
   "cell_type": "code",
   "execution_count": 35,
   "metadata": {},
   "outputs": [
    {
     "data": {
      "text/plain": [
       "'yellow'"
      ]
     },
     "execution_count": 35,
     "metadata": {},
     "output_type": "execute_result"
    }
   ],
   "source": [
    "fruits.pop('banana')"
   ]
  },
  {
   "cell_type": "code",
   "execution_count": 36,
   "metadata": {},
   "outputs": [
    {
     "name": "stdout",
     "output_type": "stream",
     "text": [
      "{'apple': 'red', 'cherry': 'red', 'orange': 'orange'}\n"
     ]
    }
   ],
   "source": [
    "print(fruits)"
   ]
  },
  {
   "cell_type": "code",
   "execution_count": null,
   "metadata": {},
   "outputs": [],
   "source": []
  }
 ],
 "metadata": {
  "kernelspec": {
   "display_name": "base",
   "language": "python",
   "name": "python3"
  },
  "language_info": {
   "codemirror_mode": {
    "name": "ipython",
    "version": 3
   },
   "file_extension": ".py",
   "mimetype": "text/x-python",
   "name": "python",
   "nbconvert_exporter": "python",
   "pygments_lexer": "ipython3",
   "version": "3.9.12"
  }
 },
 "nbformat": 4,
 "nbformat_minor": 2
}
